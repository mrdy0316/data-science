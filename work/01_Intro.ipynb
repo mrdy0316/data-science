{
 "cells": [
  {
   "cell_type": "code",
   "execution_count": 1,
   "metadata": {},
   "outputs": [
    {
     "name": "stderr",
     "output_type": "stream",
     "text": [
      "Updating HTML index of packages in '.Library'\n",
      "Making 'packages.html' ... done\n"
     ]
    }
   ],
   "source": [
    "# ggplot2パッケージのインストールと読み込み\n",
    "install.packages(\"ggplot2\")\n",
    "library(ggplot2)"
   ]
  },
  {
   "cell_type": "code",
   "execution_count": 2,
   "metadata": {},
   "outputs": [
    {
     "data": {
      "text/html": [
       "<table>\n",
       "<caption>A data.frame: 6 × 3</caption>\n",
       "<thead>\n",
       "\t<tr><th scope=col>height</th><th scope=col>weight</th><th scope=col>gender</th></tr>\n",
       "\t<tr><th scope=col>&lt;dbl&gt;</th><th scope=col>&lt;dbl&gt;</th><th scope=col>&lt;chr&gt;</th></tr>\n",
       "</thead>\n",
       "<tbody>\n",
       "\t<tr><td>178.2</td><td>80.3</td><td>Male  </td></tr>\n",
       "\t<tr><td>164.4</td><td>59.8</td><td>Male  </td></tr>\n",
       "\t<tr><td>163.1</td><td>57.3</td><td>Male  </td></tr>\n",
       "\t<tr><td>164.9</td><td>45.1</td><td>NA    </td></tr>\n",
       "\t<tr><td>153.5</td><td>43.7</td><td>Female</td></tr>\n",
       "\t<tr><td>167.7</td><td>58.6</td><td>Female</td></tr>\n",
       "</tbody>\n",
       "</table>\n"
      ],
      "text/latex": [
       "A data.frame: 6 × 3\n",
       "\\begin{tabular}{r|lll}\n",
       " height & weight & gender\\\\\n",
       " <dbl> & <dbl> & <chr>\\\\\n",
       "\\hline\n",
       "\t 178.2 & 80.3 & Male  \\\\\n",
       "\t 164.4 & 59.8 & Male  \\\\\n",
       "\t 163.1 & 57.3 & Male  \\\\\n",
       "\t 164.9 & 45.1 & NA    \\\\\n",
       "\t 153.5 & 43.7 & Female\\\\\n",
       "\t 167.7 & 58.6 & Female\\\\\n",
       "\\end{tabular}\n"
      ],
      "text/markdown": [
       "\n",
       "A data.frame: 6 × 3\n",
       "\n",
       "| height &lt;dbl&gt; | weight &lt;dbl&gt; | gender &lt;chr&gt; |\n",
       "|---|---|---|\n",
       "| 178.2 | 80.3 | Male   |\n",
       "| 164.4 | 59.8 | Male   |\n",
       "| 163.1 | 57.3 | Male   |\n",
       "| 164.9 | 45.1 | NA     |\n",
       "| 153.5 | 43.7 | Female |\n",
       "| 167.7 | 58.6 | Female |\n",
       "\n"
      ],
      "text/plain": [
       "  height weight gender\n",
       "1 178.2  80.3   Male  \n",
       "2 164.4  59.8   Male  \n",
       "3 163.1  57.3   Male  \n",
       "4 164.9  45.1   NA    \n",
       "5 153.5  43.7   Female\n",
       "6 167.7  58.6   Female"
      ]
     },
     "metadata": {},
     "output_type": "display_data"
    }
   ],
   "source": [
    "# CSVファイルの読み込み\n",
    "body.data <- read.csv(\"../data/body.csv\", header=T, stringsAsFactors=F)\n",
    "head(body.data)"
   ]
  },
  {
   "cell_type": "code",
   "execution_count": 12,
   "metadata": {},
   "outputs": [
    {
     "data": {
      "text/plain": [
       "     height          weight         gender         \n",
       " Min.   :153.5   Min.   :43.70   Length:6          \n",
       " 1st Qu.:163.4   1st Qu.:48.15   Class :character  \n",
       " Median :164.7   Median :57.95   Mode  :character  \n",
       " Mean   :165.3   Mean   :57.47                     \n",
       " 3rd Qu.:167.0   3rd Qu.:59.50                     \n",
       " Max.   :178.2   Max.   :80.30                     "
      ]
     },
     "metadata": {},
     "output_type": "display_data"
    },
    {
     "data": {
      "text/html": [
       "7.96517419771846"
      ],
      "text/latex": [
       "7.96517419771846"
      ],
      "text/markdown": [
       "7.96517419771846"
      ],
      "text/plain": [
       "[1] 7.965174"
      ]
     },
     "metadata": {},
     "output_type": "display_data"
    },
    {
     "data": {
      "text/html": [
       "63.4439999999999"
      ],
      "text/latex": [
       "63.4439999999999"
      ],
      "text/markdown": [
       "63.4439999999999"
      ],
      "text/plain": [
       "[1] 63.444"
      ]
     },
     "metadata": {},
     "output_type": "display_data"
    }
   ],
   "source": [
    "# 数値要約の実行\n",
    "summary(body.data)\n",
    "# 標準偏差と不偏分散の実行\n",
    "sd(body.data$height)\n",
    "var(body.data$height)"
   ]
  },
  {
   "cell_type": "code",
   "execution_count": 10,
   "metadata": {},
   "outputs": [
    {
     "data": {
      "text/html": [
       "<ol class=list-inline>\n",
       "\t<li>80.3</li>\n",
       "\t<li>59.8</li>\n",
       "\t<li>57.3</li>\n",
       "\t<li>45.1</li>\n",
       "\t<li>43.7</li>\n",
       "\t<li>58.6</li>\n",
       "</ol>\n"
      ],
      "text/latex": [
       "\\begin{enumerate*}\n",
       "\\item 80.3\n",
       "\\item 59.8\n",
       "\\item 57.3\n",
       "\\item 45.1\n",
       "\\item 43.7\n",
       "\\item 58.6\n",
       "\\end{enumerate*}\n"
      ],
      "text/markdown": [
       "1. 80.3\n",
       "2. 59.8\n",
       "3. 57.3\n",
       "4. 45.1\n",
       "5. 43.7\n",
       "6. 58.6\n",
       "\n",
       "\n"
      ],
      "text/plain": [
       "[1] 80.3 59.8 57.3 45.1 43.7 58.6"
      ]
     },
     "metadata": {},
     "output_type": "display_data"
    },
    {
     "data": {
      "text/html": [
       "<table>\n",
       "<caption>A data.frame: 6 × 2</caption>\n",
       "<thead>\n",
       "\t<tr><th scope=col>height</th><th scope=col>gender</th></tr>\n",
       "\t<tr><th scope=col>&lt;dbl&gt;</th><th scope=col>&lt;chr&gt;</th></tr>\n",
       "</thead>\n",
       "<tbody>\n",
       "\t<tr><td>178.2</td><td>Male  </td></tr>\n",
       "\t<tr><td>164.4</td><td>Male  </td></tr>\n",
       "\t<tr><td>163.1</td><td>Male  </td></tr>\n",
       "\t<tr><td>164.9</td><td>NA    </td></tr>\n",
       "\t<tr><td>153.5</td><td>Female</td></tr>\n",
       "\t<tr><td>167.7</td><td>Female</td></tr>\n",
       "</tbody>\n",
       "</table>\n"
      ],
      "text/latex": [
       "A data.frame: 6 × 2\n",
       "\\begin{tabular}{r|ll}\n",
       " height & gender\\\\\n",
       " <dbl> & <chr>\\\\\n",
       "\\hline\n",
       "\t 178.2 & Male  \\\\\n",
       "\t 164.4 & Male  \\\\\n",
       "\t 163.1 & Male  \\\\\n",
       "\t 164.9 & NA    \\\\\n",
       "\t 153.5 & Female\\\\\n",
       "\t 167.7 & Female\\\\\n",
       "\\end{tabular}\n"
      ],
      "text/markdown": [
       "\n",
       "A data.frame: 6 × 2\n",
       "\n",
       "| height &lt;dbl&gt; | gender &lt;chr&gt; |\n",
       "|---|---|\n",
       "| 178.2 | Male   |\n",
       "| 164.4 | Male   |\n",
       "| 163.1 | Male   |\n",
       "| 164.9 | NA     |\n",
       "| 153.5 | Female |\n",
       "| 167.7 | Female |\n",
       "\n"
      ],
      "text/plain": [
       "  height gender\n",
       "1 178.2  Male  \n",
       "2 164.4  Male  \n",
       "3 163.1  Male  \n",
       "4 164.9  NA    \n",
       "5 153.5  Female\n",
       "6 167.7  Female"
      ]
     },
     "metadata": {},
     "output_type": "display_data"
    },
    {
     "data": {
      "text/html": [
       "<ol class=list-inline>\n",
       "\t<li>80.3</li>\n",
       "\t<li>59.8</li>\n",
       "\t<li>57.3</li>\n",
       "\t<li>45.1</li>\n",
       "\t<li>43.7</li>\n",
       "\t<li>58.6</li>\n",
       "</ol>\n"
      ],
      "text/latex": [
       "\\begin{enumerate*}\n",
       "\\item 80.3\n",
       "\\item 59.8\n",
       "\\item 57.3\n",
       "\\item 45.1\n",
       "\\item 43.7\n",
       "\\item 58.6\n",
       "\\end{enumerate*}\n"
      ],
      "text/markdown": [
       "1. 80.3\n",
       "2. 59.8\n",
       "3. 57.3\n",
       "4. 45.1\n",
       "5. 43.7\n",
       "6. 58.6\n",
       "\n",
       "\n"
      ],
      "text/plain": [
       "[1] 80.3 59.8 57.3 45.1 43.7 58.6"
      ]
     },
     "metadata": {},
     "output_type": "display_data"
    },
    {
     "data": {
      "text/html": [
       "<ol class=list-inline>\n",
       "\t<li>80.3</li>\n",
       "\t<li>59.8</li>\n",
       "\t<li>57.3</li>\n",
       "\t<li>45.1</li>\n",
       "\t<li>43.7</li>\n",
       "\t<li>58.6</li>\n",
       "</ol>\n"
      ],
      "text/latex": [
       "\\begin{enumerate*}\n",
       "\\item 80.3\n",
       "\\item 59.8\n",
       "\\item 57.3\n",
       "\\item 45.1\n",
       "\\item 43.7\n",
       "\\item 58.6\n",
       "\\end{enumerate*}\n"
      ],
      "text/markdown": [
       "1. 80.3\n",
       "2. 59.8\n",
       "3. 57.3\n",
       "4. 45.1\n",
       "5. 43.7\n",
       "6. 58.6\n",
       "\n",
       "\n"
      ],
      "text/plain": [
       "[1] 80.3 59.8 57.3 45.1 43.7 58.6"
      ]
     },
     "metadata": {},
     "output_type": "display_data"
    },
    {
     "data": {
      "text/html": [
       "<table>\n",
       "<caption>A data.frame: 6 × 2</caption>\n",
       "<thead>\n",
       "\t<tr><th scope=col>height</th><th scope=col>weight</th></tr>\n",
       "\t<tr><th scope=col>&lt;dbl&gt;</th><th scope=col>&lt;dbl&gt;</th></tr>\n",
       "</thead>\n",
       "<tbody>\n",
       "\t<tr><td>178.2</td><td>80.3</td></tr>\n",
       "\t<tr><td>164.4</td><td>59.8</td></tr>\n",
       "\t<tr><td>163.1</td><td>57.3</td></tr>\n",
       "\t<tr><td>164.9</td><td>45.1</td></tr>\n",
       "\t<tr><td>153.5</td><td>43.7</td></tr>\n",
       "\t<tr><td>167.7</td><td>58.6</td></tr>\n",
       "</tbody>\n",
       "</table>\n"
      ],
      "text/latex": [
       "A data.frame: 6 × 2\n",
       "\\begin{tabular}{r|ll}\n",
       " height & weight\\\\\n",
       " <dbl> & <dbl>\\\\\n",
       "\\hline\n",
       "\t 178.2 & 80.3\\\\\n",
       "\t 164.4 & 59.8\\\\\n",
       "\t 163.1 & 57.3\\\\\n",
       "\t 164.9 & 45.1\\\\\n",
       "\t 153.5 & 43.7\\\\\n",
       "\t 167.7 & 58.6\\\\\n",
       "\\end{tabular}\n"
      ],
      "text/markdown": [
       "\n",
       "A data.frame: 6 × 2\n",
       "\n",
       "| height &lt;dbl&gt; | weight &lt;dbl&gt; |\n",
       "|---|---|\n",
       "| 178.2 | 80.3 |\n",
       "| 164.4 | 59.8 |\n",
       "| 163.1 | 57.3 |\n",
       "| 164.9 | 45.1 |\n",
       "| 153.5 | 43.7 |\n",
       "| 167.7 | 58.6 |\n",
       "\n"
      ],
      "text/plain": [
       "  height weight\n",
       "1 178.2  80.3  \n",
       "2 164.4  59.8  \n",
       "3 163.1  57.3  \n",
       "4 164.9  45.1  \n",
       "5 153.5  43.7  \n",
       "6 167.7  58.6  "
      ]
     },
     "metadata": {},
     "output_type": "display_data"
    },
    {
     "data": {
      "text/html": [
       "<table>\n",
       "<caption>A data.frame: 3 × 3</caption>\n",
       "<thead>\n",
       "\t<tr><th></th><th scope=col>height</th><th scope=col>weight</th><th scope=col>gender</th></tr>\n",
       "\t<tr><th></th><th scope=col>&lt;dbl&gt;</th><th scope=col>&lt;dbl&gt;</th><th scope=col>&lt;chr&gt;</th></tr>\n",
       "</thead>\n",
       "<tbody>\n",
       "\t<tr><th scope=row>NA</th><td>   NA</td><td>  NA</td><td>NA    </td></tr>\n",
       "\t<tr><th scope=row>5</th><td>153.5</td><td>43.7</td><td>Female</td></tr>\n",
       "\t<tr><th scope=row>6</th><td>167.7</td><td>58.6</td><td>Female</td></tr>\n",
       "</tbody>\n",
       "</table>\n"
      ],
      "text/latex": [
       "A data.frame: 3 × 3\n",
       "\\begin{tabular}{r|lll}\n",
       "  & height & weight & gender\\\\\n",
       "  & <dbl> & <dbl> & <chr>\\\\\n",
       "\\hline\n",
       "\tNA &    NA &   NA & NA    \\\\\n",
       "\t5 & 153.5 & 43.7 & Female\\\\\n",
       "\t6 & 167.7 & 58.6 & Female\\\\\n",
       "\\end{tabular}\n"
      ],
      "text/markdown": [
       "\n",
       "A data.frame: 3 × 3\n",
       "\n",
       "| <!--/--> | height &lt;dbl&gt; | weight &lt;dbl&gt; | gender &lt;chr&gt; |\n",
       "|---|---|---|---|\n",
       "| NA |    NA |   NA | NA     |\n",
       "| 5 | 153.5 | 43.7 | Female |\n",
       "| 6 | 167.7 | 58.6 | Female |\n",
       "\n"
      ],
      "text/plain": [
       "   height weight gender\n",
       "NA    NA    NA   NA    \n",
       "5  153.5  43.7   Female\n",
       "6  167.7  58.6   Female"
      ]
     },
     "metadata": {},
     "output_type": "display_data"
    },
    {
     "data": {
      "text/html": [
       "<table>\n",
       "<caption>A data.frame: 6 × 3</caption>\n",
       "<thead>\n",
       "\t<tr><th></th><th scope=col>height</th><th scope=col>weight</th><th scope=col>gender</th></tr>\n",
       "\t<tr><th></th><th scope=col>&lt;dbl&gt;</th><th scope=col>&lt;dbl&gt;</th><th scope=col>&lt;chr&gt;</th></tr>\n",
       "</thead>\n",
       "<tbody>\n",
       "\t<tr><th scope=row>5</th><td>153.5</td><td>43.7</td><td>Female</td></tr>\n",
       "\t<tr><th scope=row>3</th><td>163.1</td><td>57.3</td><td>Male  </td></tr>\n",
       "\t<tr><th scope=row>2</th><td>164.4</td><td>59.8</td><td>Male  </td></tr>\n",
       "\t<tr><th scope=row>4</th><td>164.9</td><td>45.1</td><td>NA    </td></tr>\n",
       "\t<tr><th scope=row>6</th><td>167.7</td><td>58.6</td><td>Female</td></tr>\n",
       "\t<tr><th scope=row>1</th><td>178.2</td><td>80.3</td><td>Male  </td></tr>\n",
       "</tbody>\n",
       "</table>\n"
      ],
      "text/latex": [
       "A data.frame: 6 × 3\n",
       "\\begin{tabular}{r|lll}\n",
       "  & height & weight & gender\\\\\n",
       "  & <dbl> & <dbl> & <chr>\\\\\n",
       "\\hline\n",
       "\t5 & 153.5 & 43.7 & Female\\\\\n",
       "\t3 & 163.1 & 57.3 & Male  \\\\\n",
       "\t2 & 164.4 & 59.8 & Male  \\\\\n",
       "\t4 & 164.9 & 45.1 & NA    \\\\\n",
       "\t6 & 167.7 & 58.6 & Female\\\\\n",
       "\t1 & 178.2 & 80.3 & Male  \\\\\n",
       "\\end{tabular}\n"
      ],
      "text/markdown": [
       "\n",
       "A data.frame: 6 × 3\n",
       "\n",
       "| <!--/--> | height &lt;dbl&gt; | weight &lt;dbl&gt; | gender &lt;chr&gt; |\n",
       "|---|---|---|---|\n",
       "| 5 | 153.5 | 43.7 | Female |\n",
       "| 3 | 163.1 | 57.3 | Male   |\n",
       "| 2 | 164.4 | 59.8 | Male   |\n",
       "| 4 | 164.9 | 45.1 | NA     |\n",
       "| 6 | 167.7 | 58.6 | Female |\n",
       "| 1 | 178.2 | 80.3 | Male   |\n",
       "\n"
      ],
      "text/plain": [
       "  height weight gender\n",
       "5 153.5  43.7   Female\n",
       "3 163.1  57.3   Male  \n",
       "2 164.4  59.8   Male  \n",
       "4 164.9  45.1   NA    \n",
       "6 167.7  58.6   Female\n",
       "1 178.2  80.3   Male  "
      ]
     },
     "metadata": {},
     "output_type": "display_data"
    },
    {
     "data": {
      "text/html": [
       "<table>\n",
       "<caption>A data.frame: 6 × 3</caption>\n",
       "<thead>\n",
       "\t<tr><th></th><th scope=col>height</th><th scope=col>weight</th><th scope=col>gender</th></tr>\n",
       "\t<tr><th></th><th scope=col>&lt;dbl&gt;</th><th scope=col>&lt;dbl&gt;</th><th scope=col>&lt;chr&gt;</th></tr>\n",
       "</thead>\n",
       "<tbody>\n",
       "\t<tr><th scope=row>1</th><td>178.2</td><td>80.3</td><td>Male  </td></tr>\n",
       "\t<tr><th scope=row>6</th><td>167.7</td><td>58.6</td><td>Female</td></tr>\n",
       "\t<tr><th scope=row>4</th><td>164.9</td><td>45.1</td><td>NA    </td></tr>\n",
       "\t<tr><th scope=row>2</th><td>164.4</td><td>59.8</td><td>Male  </td></tr>\n",
       "\t<tr><th scope=row>3</th><td>163.1</td><td>57.3</td><td>Male  </td></tr>\n",
       "\t<tr><th scope=row>5</th><td>153.5</td><td>43.7</td><td>Female</td></tr>\n",
       "</tbody>\n",
       "</table>\n"
      ],
      "text/latex": [
       "A data.frame: 6 × 3\n",
       "\\begin{tabular}{r|lll}\n",
       "  & height & weight & gender\\\\\n",
       "  & <dbl> & <dbl> & <chr>\\\\\n",
       "\\hline\n",
       "\t1 & 178.2 & 80.3 & Male  \\\\\n",
       "\t6 & 167.7 & 58.6 & Female\\\\\n",
       "\t4 & 164.9 & 45.1 & NA    \\\\\n",
       "\t2 & 164.4 & 59.8 & Male  \\\\\n",
       "\t3 & 163.1 & 57.3 & Male  \\\\\n",
       "\t5 & 153.5 & 43.7 & Female\\\\\n",
       "\\end{tabular}\n"
      ],
      "text/markdown": [
       "\n",
       "A data.frame: 6 × 3\n",
       "\n",
       "| <!--/--> | height &lt;dbl&gt; | weight &lt;dbl&gt; | gender &lt;chr&gt; |\n",
       "|---|---|---|---|\n",
       "| 1 | 178.2 | 80.3 | Male   |\n",
       "| 6 | 167.7 | 58.6 | Female |\n",
       "| 4 | 164.9 | 45.1 | NA     |\n",
       "| 2 | 164.4 | 59.8 | Male   |\n",
       "| 3 | 163.1 | 57.3 | Male   |\n",
       "| 5 | 153.5 | 43.7 | Female |\n",
       "\n"
      ],
      "text/plain": [
       "  height weight gender\n",
       "1 178.2  80.3   Male  \n",
       "6 167.7  58.6   Female\n",
       "4 164.9  45.1   NA    \n",
       "2 164.4  59.8   Male  \n",
       "3 163.1  57.3   Male  \n",
       "5 153.5  43.7   Female"
      ]
     },
     "metadata": {},
     "output_type": "display_data"
    }
   ],
   "source": [
    "# データフレーム の基本操作\n",
    "body.data[, 2] # 列番号を指定して取得\n",
    "body.data[, c(1,3)] # 複数の列番号を指定して取得\n",
    "body.data[, \"weight\"] # 列名で取得\n",
    "body.data$weight # $列名でも取れる\n",
    "body.data[, c(\"height\", \"weight\")]\n",
    "\n",
    "body.data[body.data$gender==\"Female\",] # 条件にあった行だけ取り出す\n",
    "body.data[order(body.data$height),] # 昇順でソート\n",
    "body.data[order(body.data$height, decreasing=T),] # 降順でソート"
   ]
  },
  {
   "cell_type": "code",
   "execution_count": 47,
   "metadata": {},
   "outputs": [],
   "source": [
    "body.data <- na.omit(body.data) # NA を含む行を削除"
   ]
  },
  {
   "cell_type": "code",
   "execution_count": 48,
   "metadata": {},
   "outputs": [
    {
     "name": "stderr",
     "output_type": "stream",
     "text": [
      "`stat_bin()` using `bins = 30`. Pick better value with `binwidth`.\n",
      "`stat_bin()` using `bins = 30`. Pick better value with `binwidth`.\n"
     ]
    },
    {
     "data": {
      "image/png": "[encoded data removed]",
      "text/plain": [
       "plot without title"
      ]
     },
     "metadata": {},
     "output_type": "display_data"
    },
    {
     "data": {
      "image/png": "[encoded data removed]",
      "text/plain": [
       "plot without title"
      ]
     },
     "metadata": {},
     "output_type": "display_data"
    },
    {
     "data": {
      "image/png": "[encoded data removed]",
      "text/plain": [
       "plot without title"
      ]
     },
     "metadata": {},
     "output_type": "display_data"
    },
    {
     "data": {
      "image/png": "[encoded data removed]",
      "text/plain": [
       "plot without title"
      ]
     },
     "metadata": {},
     "output_type": "display_data"
    },
    {
     "data": {
      "text/plain": [
       "geom_smooth: na.rm = FALSE, se = TRUE\n",
       "stat_smooth: na.rm = FALSE, se = TRUE, method = lm, formula = y ~ x\n",
       "position_identity "
      ]
     },
     "metadata": {},
     "output_type": "display_data"
    },
    {
     "data": {
      "image/png": "[encoded data removed]",
      "text/plain": [
       "plot without title"
      ]
     },
     "metadata": {},
     "output_type": "display_data"
    },
    {
     "data": {
      "text/plain": [
       "geom_smooth: na.rm = FALSE, se = TRUE\n",
       "stat_smooth: na.rm = FALSE, se = TRUE, method = lm, formula = y ~ x\n",
       "position_identity "
      ]
     },
     "metadata": {},
     "output_type": "display_data"
    },
    {
     "data": {
      "image/png": "[encoded data removed]",
      "text/plain": [
       "plot without title"
      ]
     },
     "metadata": {},
     "output_type": "display_data"
    }
   ],
   "source": [
    "# ヒストグラムの描画\n",
    "ggplot(body.data, aes(x=height)) +\n",
    "    geom_histogram() +\n",
    "    theme_bw(16) +\n",
    "    ylab(\"count\")\n",
    "\n",
    "# 男女別に色分けしたヒストグラムの描画\n",
    "ggplot(body.data, aes(x=height, fil=gender)) +\n",
    "    geom_histogram() +\n",
    "    theme_bw(16) +\n",
    "    ylab(\"count\")\n",
    "\n",
    "# 身長データの箱ひげ図の実行\n",
    "ggplot(body.data, aes(x=gender, y=height, fil=gender)) +\n",
    "    geom_boxplot() +\n",
    "    theme_bw(16)\n",
    "\n",
    "# 身長と体重の散布図の実行\n",
    "ggplot(body.data, aes(x=height, y=weight)) +\n",
    "    geom_point() +\n",
    "    theme_bw(16)\n",
    "\n",
    "# 身長と体重の散布図+回帰曲線\n",
    "ggplot(body.data, aes(x=height, y=weight)) +\n",
    "    geom_point() +\n",
    "    theme_bw(16)\n",
    "    geom_smooth(method=\"lm\")\n",
    "\n",
    "# 身長と体重の散布図+回帰曲線\n",
    "ggplot(body.data, aes(x=height, y=weight, col=gender)) +\n",
    "    geom_point() +\n",
    "    theme_bw(16)\n",
    "    geom_smooth(method=\"lm\")"
   ]
  },
  {
   "cell_type": "code",
   "execution_count": 51,
   "metadata": {},
   "outputs": [
    {
     "data": {
      "text/html": [
       "0.979189806109266"
      ],
      "text/latex": [
       "0.979189806109266"
      ],
      "text/markdown": [
       "0.979189806109266"
      ],
      "text/plain": [
       "[1] 0.9791898"
      ]
     },
     "metadata": {},
     "output_type": "display_data"
    },
    {
     "data": {
      "text/html": [
       "0.999769720192597"
      ],
      "text/latex": [
       "0.999769720192597"
      ],
      "text/markdown": [
       "0.999769720192597"
      ],
      "text/plain": [
       "[1] 0.9997697"
      ]
     },
     "metadata": {},
     "output_type": "display_data"
    },
    {
     "data": {
      "text/html": [
       "1"
      ],
      "text/latex": [
       "1"
      ],
      "text/markdown": [
       "1"
      ],
      "text/plain": [
       "[1] 1"
      ]
     },
     "metadata": {},
     "output_type": "display_data"
    }
   ],
   "source": [
    "# 相関係数の算出\n",
    "# 全体\n",
    "cor(body.data$height, body.data$weight)\n",
    "\n",
    "# 男性\n",
    "body.data.m <- body.data[body.data$gender==\"Male\",]\n",
    "cor(body.data.m$height, body.data.m$weight)\n",
    "\n",
    "# 女性\n",
    "body.data.f <- body.data[body.data$gender==\"Female\",]\n",
    "cor(body.data.f$height, body.data.f$weight)"
   ]
  },
  {
   "cell_type": "code",
   "execution_count": null,
   "metadata": {},
   "outputs": [],
   "source": []
  }
 ],
 "metadata": {
  "kernelspec": {
   "display_name": "R",
   "language": "R",
   "name": "ir"
  },
  "language_info": {
   "codemirror_mode": "r",
   "file_extension": ".r",
   "mimetype": "text/x-r-source",
   "name": "R",
   "pygments_lexer": "r",
   "version": "3.6.1"
  }
 },
 "nbformat": 4,
 "nbformat_minor": 2
}
